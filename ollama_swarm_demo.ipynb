{
 "cells": [
  {
   "cell_type": "markdown",
   "id": "20c4d0b2-bde4-4c46-9d16-8d8814c8aed4",
   "metadata": {},
   "source": [
    "<img src = \"https://github.com/VeryFatBoy/notebooks/blob/main/common/images/img_github_singlestore-jupyter_featured_2.png?raw=true\">"
   ]
  },
  {
   "cell_type": "markdown",
   "id": "f6c76822-7808-4cd5-9da4-13f78b576d12",
   "metadata": {},
   "source": [
    "<div id=\"singlestore-header\" style=\"display: flex; background-color: rgba(235, 249, 245, 0.25); padding: 5px;\">\n",
    "    <div id=\"icon-image\" style=\"width: 90px; height: 90px;\">\n",
    "        <img width=\"100%\" height=\"100%\" src=\"https://raw.githubusercontent.com/singlestore-labs/spaces-notebooks/master/common/images/header-icons/browser.png\" />\n",
    "    </div>\n",
    "    <div id=\"text\" style=\"padding: 5px; margin-left: 10px;\">\n",
    "        <div id=\"badge\" style=\"display: inline-block; background-color: rgba(0, 0, 0, 0.15); border-radius: 4px; padding: 4px 8px; align-items: center; margin-top: 6px; margin-bottom: -2px; font-size: 80%\">SingleStore Notebooks</div>\n",
    "        <h1 style=\"font-weight: 500; margin: 8px 0 0 4px;\">Running OpenAI's Swarm locally using Ollama</h1>\n",
    "    </div>\n",
    "</div>"
   ]
  },
  {
   "cell_type": "code",
   "execution_count": 1,
   "id": "7c683f8e-85ed-4b94-a638-fb81f6b3e21e",
   "metadata": {},
   "outputs": [],
   "source": [
    "!pip cache purge --quiet"
   ]
  },
  {
   "cell_type": "code",
   "execution_count": 2,
   "id": "2a847b3f-bb16-41ab-bb69-74d2ce35fc59",
   "metadata": {},
   "outputs": [],
   "source": [
    "!pip install git+https://github.com/openai/swarm.git --quiet\n",
    "!pip install ollama openai --quiet"
   ]
  },
  {
   "cell_type": "code",
   "execution_count": 3,
   "id": "c32d5579-df5f-436d-9751-e501c1ad632f",
   "metadata": {},
   "outputs": [],
   "source": [
    "import ollama\n",
    "\n",
    "from openai import OpenAI"
   ]
  },
  {
   "cell_type": "code",
   "execution_count": 4,
   "id": "6a7dbe2d-a51d-4fc0-86f0-328fc11d415c",
   "metadata": {},
   "outputs": [
    {
     "data": {
      "text/plain": [
       "{'status': 'success'}"
      ]
     },
     "execution_count": 4,
     "metadata": {},
     "output_type": "execute_result"
    }
   ],
   "source": [
    "model = \"llama3.2:1b\"\n",
    "\n",
    "ollama.pull(model)"
   ]
  },
  {
   "cell_type": "code",
   "execution_count": 5,
   "id": "17cf2a8d-af49-491e-a8ff-ab9bf2502788",
   "metadata": {},
   "outputs": [],
   "source": [
    "ollama_client = OpenAI(\n",
    "    base_url = \"http://localhost:11434/v1\",\n",
    "    api_key = \"ollama\"\n",
    ")"
   ]
  },
  {
   "cell_type": "code",
   "execution_count": 6,
   "id": "0859c1ab-218a-4839-9ad1-63c774ab3081",
   "metadata": {},
   "outputs": [
    {
     "name": "stdout",
     "output_type": "stream",
     "text": [
      "Whispered words convey\n",
      "Duty calls, another mission\n",
      "Silhouette glows bright\n"
     ]
    }
   ],
   "source": [
    "from swarm import Swarm, Agent\n",
    "\n",
    "client = Swarm(ollama_client)\n",
    "\n",
    "def transfer_to_agent_b():\n",
    "    return agent_b\n",
    "\n",
    "agent_a = Agent(\n",
    "    name = \"Agent A\",\n",
    "    model = model,\n",
    "    instructions = \"You are a helpful agent.\",\n",
    "    functions=[transfer_to_agent_b],\n",
    ")\n",
    "\n",
    "agent_b = Agent(\n",
    "    name = \"Agent B\",\n",
    "    model = model,\n",
    "    instructions = \"Only speak in Haikus.\",\n",
    ")\n",
    "\n",
    "response = client.run(\n",
    "    agent = agent_a,\n",
    "    messages = [{\"role\": \"user\", \"content\": \"I want to talk to agent B.\"}],\n",
    ")\n",
    "\n",
    "print(response.messages[-1][\"content\"])"
   ]
  }
 ],
 "metadata": {
  "kernelspec": {
   "display_name": "Python 3 (ipykernel)",
   "language": "python",
   "name": "python3"
  },
  "language_info": {
   "codemirror_mode": {
    "name": "ipython",
    "version": 3
   },
   "file_extension": ".py",
   "mimetype": "text/x-python",
   "name": "python",
   "nbconvert_exporter": "python",
   "pygments_lexer": "ipython3",
   "version": "3.12.7"
  }
 },
 "nbformat": 4,
 "nbformat_minor": 5
}
